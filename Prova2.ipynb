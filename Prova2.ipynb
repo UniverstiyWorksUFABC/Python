{
 "cells": [
  {
   "cell_type": "markdown",
   "metadata": {},
   "source": [
    "# Prova 2\n",
    "\n",
    "\n",
    "Leia as instruções:\n",
    "\n",
    "- A prova tem duração de 1h30 minutos\n",
    "- Qualquer menção ou cópia de resposta de algum colega, ambas as provas serão zeradas\n",
    "- Não é permitido nenhum tipo de comunicação\n",
    "- Consulta a sites (google, stack overflow) é expressamente PROIBIDA''\n",
    "- Envie o arquivo do Notebook como anexo da atividade\n",
    "\n",
    "Utilize as seguintes instruções para facilitar sua resolução de problemas\n",
    "\n",
    "## Operadores\n",
    " \n",
    "- Aritméticos: +, -, *, /, %, // (divisão inteira) e ** (exponenciação)\n",
    "- Relacionais: >, >=, <, <=, ==, !=\n",
    "- Entrada de dados: input(\"texto a ser informado\")\n",
    "- Entrada de dados (numeros inteiros): int(input(\"texto a ser informado\"))\n",
    "- Entrada de dados (numeros reais): float(input(\"texto a ser informado\"))\n",
    "- Saída de dados: print(\"mensagem\", variavel,...)\n",
    "\n",
    "\n",
    "Decisão:\n",
    "```python\n",
    "if *Condicao* :\n",
    "    instrução1\n",
    "    instrução2\n",
    "```\n",
    "ou\n",
    "\n",
    "```python\n",
    "if *Condicao* :\n",
    "    instrução1\n",
    "    instrução2\n",
    "else:\n",
    "    instrução1\n",
    "    instrução2\n",
    "```\n",
    "\n",
    "Repetição\n",
    "\n",
    "\n",
    "```python\n",
    "while *Condicao* :\n",
    "    instrução1\n",
    "    instrução2\n",
    "``` \n",
    "\n",
    "```python\n",
    "for VAR in RANGE(inicio, fim):\n",
    "    instrução1\n",
    "    instrução2\n",
    "```\n",
    "\n"
   ]
  },
  {
   "cell_type": "markdown",
   "metadata": {},
   "source": [
    "## Exercicio 1: (3,5) \n",
    "\n",
    "Faça um programa que, dado um número inteiro X informe todos os números múltiplos de 3 ou 5 até esse número X (se for múltiplo de 3 e de 5 ao mesmo tempo, também informe - ex: 15 é múltiplo de 3 e 5)\n"
   ]
  },
  {
   "cell_type": "code",
   "execution_count": 13,
   "metadata": {},
   "outputs": [
    {
     "name": "stdout",
     "output_type": "stream",
     "text": [
      "Digite um numero inteiro9\n",
      "O numero eh multiplo por 3  9\n",
      "O numero eh multiplo por 3  6\n",
      "O numero eh multiplo por 5  5\n",
      "O numero eh multiplo por 3  3\n"
     ]
    }
   ],
   "source": [
    "num = int(input(\"Digite um numero inteiro\"))\n",
    "for i in range (1, num+1):\n",
    "    if num%5 == 0:\n",
    "         print(\"O numero eh multiplo por 5 \",num)\n",
    "    if num%3 == 0:\n",
    "        print(\"O numero eh multiplo por 3 \",num)\n",
    "    num=num-1"
   ]
  },
  {
   "cell_type": "markdown",
   "metadata": {},
   "source": [
    "## Exercício 2: (3,5)\n",
    "\n",
    "O Prof. Isidro está querendo saber quantos alunos foram aprovados ou reprovados na disciplina de BCC. Dessa forma, faça um programa que leia uma quantidade indeterminada de notas (seu programa termina quando o usuário digitar -1) e informe quantas pessoas obtiveram notas acima da média (maior ou igual a 6.0) e quantas pessoas obtiveram nota abaixo da média."
   ]
  },
  {
   "cell_type": "code",
   "execution_count": 5,
   "metadata": {},
   "outputs": [
    {
     "name": "stdout",
     "output_type": "stream",
     "text": [
      "Digite o valor a nota4\n",
      "Digite o valor a nota6\n",
      "Digite o valor a nota-1\n",
      " A quantidade de aluno aprovados foi 1\n",
      " A quantidade de aluno reprovados foi 2\n"
     ]
    }
   ],
   "source": [
    "aprovado = 0\n",
    "reprovado = 0\n",
    "nota = 0\n",
    "while (nota >= 0):\n",
    "    nota =  int(input(\"Digite o valor a nota\"))\n",
    "    if nota >=6:\n",
    "        aprovado = aprovado + 1\n",
    "\n",
    "    else:\n",
    "        reprovado = reprovado + 1\n",
    "        \n",
    "print (\" A quantidade de aluno aprovados foi\", aprovado)\n",
    "print (\" A quantidade de aluno reprovados foi\", reprovado)\n",
    "\n",
    "\n"
   ]
  },
  {
   "cell_type": "markdown",
   "metadata": {},
   "source": [
    "# Exercício 3: (3,0)\n",
    "\n",
    "Faça um programa que leia um número inteiro N e mostre (só mostre) a seguinte sequência:\n",
    "\n",
    "N = 5\n",
    "\n",
    "\n",
    "1/1, 1/2, 1/3, 1/4, 1/5\n",
    "\n"
   ]
  },
  {
   "cell_type": "code",
   "execution_count": 22,
   "metadata": {},
   "outputs": [
    {
     "name": "stdout",
     "output_type": "stream",
     "text": [
      "Digite um numero5\n",
      "1 / 1\n",
      "1 / 2\n",
      "1 / 3\n",
      "1 / 4\n",
      "1 / 5\n"
     ]
    }
   ],
   "source": [
    "i=1\n",
    "cont = 1\n",
    "num = 0\n",
    "num = int(input(\"Digite um numero\"))\n",
    "for i in range (1,num+1):\n",
    "    num = num -1\n",
    "    print (cont,\"/\", i)"
   ]
  },
  {
   "cell_type": "code",
   "execution_count": null,
   "metadata": {},
   "outputs": [],
   "source": []
  },
  {
   "cell_type": "code",
   "execution_count": null,
   "metadata": {},
   "outputs": [],
   "source": []
  }
 ],
 "metadata": {
  "kernelspec": {
   "display_name": "Python 3",
   "language": "python",
   "name": "python3"
  },
  "language_info": {
   "codemirror_mode": {
    "name": "ipython",
    "version": 3
   },
   "file_extension": ".py",
   "mimetype": "text/x-python",
   "name": "python",
   "nbconvert_exporter": "python",
   "pygments_lexer": "ipython3",
   "version": "3.6.5"
  },
  "widgets": {
   "state": {},
   "version": "1.1.2"
  }
 },
 "nbformat": 4,
 "nbformat_minor": 1
}
