{
 "cells": [
  {
   "cell_type": "markdown",
   "metadata": {},
   "source": [
    "# Prova 1\n",
    "\n",
    "\n",
    "Leia as instruções:\n",
    "\n",
    "- A prova tem duração de 1h30 minutos\n",
    "- Qualquer menção ou cópia de resposta de algum colega, ambas as provas serão zeradas\n",
    "- Não é permitido nenhum tipo de comunicação\n",
    "- Consulta a sites (google, stack overflow) é expressamente PROIBIDA''\n",
    "- Envie o arquivo do Notebook como anexo da atividade\n",
    "\n",
    "Utilize as seguintes instruções para facilitar sua resolução de problemas\n",
    "\n",
    "## Operadores\n",
    " \n",
    "- Aritméticos: +, -, *, /, %, // (divisão inteira) e ** (exponenciação)\n",
    "- Relacionais: >, >=, <, <=, ==, !=\n",
    "- Entrada de dados: input(\"texto a ser informado\")\n",
    "- Entrada de dados (numeros inteiros): int(input(\"texto a ser informado\"))\n",
    "- Entrada de dados (numeros reais): float(input(\"texto a ser informado\"))\n",
    "- Saída de dados: print(\"mensagem\", variavel,...)\n",
    "\n",
    "\n",
    "Decisão:\n",
    "```python\n",
    "if *Condicao* :\n",
    "    instrução1\n",
    "    instrução2\n",
    "```\n",
    "ou\n",
    "\n",
    "```python\n",
    "if *Condicao* :\n",
    "    instrução1\n",
    "    instrução2\n",
    "else:\n",
    "    instrução1\n",
    "    instrução2\n",
    "```\n",
    "\n",
    "    \n",
    "\n"
   ]
  },
  {
   "cell_type": "markdown",
   "metadata": {},
   "source": [
    "## Exercicio 1: (3,5) \n",
    "\n",
    "O Sr. José vai comprar um carro novo e quer saber se um carro é econômico ou não. Ele foi autorizado a fazer um test drive de 50km com o carro. Porém ele teria que repor o combustível assim que o carro chegasse de volta na concessionária. \n",
    "Dessa forma, você deve fazer um programa que:\n",
    "- Leia a quantidade de litros foi gasta nesse trajeto\n",
    "- Calcule o consumo médio do carro\n",
    "- Informe se o carro é econômico ou não \n",
    "\n",
    "\n",
    "O Sr. José considera um carro econômico, aquele que tem um consumo média *acima* de 10 km/l"
   ]
  },
  {
   "cell_type": "code",
   "execution_count": 13,
   "metadata": {},
   "outputs": [
    {
     "name": "stdout",
     "output_type": "stream",
     "text": [
      "Informe o litros gasto no trajeto:10\n",
      "Carro nao economico 5.0\n"
     ]
    }
   ],
   "source": [
    "qtdadeLitro = float(input(\"Informe o litros gasto no trajeto:\"))\n",
    "consumo = 50 // qtdadeLitro\n",
    "if consumo > 10:\n",
    "    print(\"Carro Economico\", consumo)\n",
    "else:\n",
    "    print(\"Carro nao economico\", consumo)"
   ]
  },
  {
   "cell_type": "markdown",
   "metadata": {},
   "source": [
    "## Exercício 2: (3,5)\n",
    "\n",
    "O Prof. Isidro está com dificuldade em calcular a média dos alunos da turma de Bases Computacionais. Em seu novo critério, ele quer dar 35% de peso para o trabalho e 65% de peso para as provas. Portanto, faça um programa em Python que\n",
    "- Leia a nota da Prova\n",
    "- Leia a nota do trabalho\n",
    "- Calcule e mostre a média final  \n",
    "\n",
    "Apenas isso. Saber se o aluno foi aprovado ou reprovado é outra história :D"
   ]
  },
  {
   "cell_type": "code",
   "execution_count": 16,
   "metadata": {},
   "outputs": [
    {
     "name": "stdout",
     "output_type": "stream",
     "text": [
      "Insira a nota da Prova:10\n",
      "Insira a nota do trabalho:0\n",
      "A media do aluno eh:  6.5\n"
     ]
    }
   ],
   "source": [
    "NotaProva = int(input(\"Insira a nota da Prova:\"))\n",
    "NotaTrabalho = int(input(\"Insira a nota do trabalho:\"))\n",
    "media= (NotaProva * 0.65) + (NotaTrabalho * 0.35) // 2\n",
    "print(\"A media do aluno eh: \", media)\n"
   ]
  },
  {
   "cell_type": "markdown",
   "metadata": {},
   "source": [
    "# Exercício 3: (3,0)\n",
    "\n",
    "Faça um programa que será feito para um novo Banco: O UFABank. Neste programa, você deverá ler o valor de saque no caixa eletrônico e informar:\n",
    "- O número de cédulas de R\\$ 50.00 \n",
    "- O número de cédulas de R\\$ 10.00 \n",
    "- O número de cédulas de R\\$ 1.00    \n",
    "\n",
    "Mostre todas as quantidades, mesmo que sejam 0.\n"
   ]
  },
  {
   "cell_type": "code",
   "execution_count": 11,
   "metadata": {},
   "outputs": [
    {
     "name": "stdout",
     "output_type": "stream",
     "text": [
      "Insira o valor do saque:130\n",
      "Quantidade de cedulas eh  2 3 0\n"
     ]
    }
   ],
   "source": [
    "ValorSaque= int(input(\"Insira o valor do saque:\"))\n",
    "Calcula50 = (ValorSaque //50) \n",
    "Resto50 = ValorSaque%50\n",
    "Calcula10 = (Resto50 // 10)\n",
    "Resto10 = Resto50%10\n",
    "Calcula01 = (Resto10 // 1)\n",
    "print (\"Quantidade de cedulas eh \", Calcula50, Calcula10, Calcula01)"
   ]
  },
  {
   "cell_type": "code",
   "execution_count": null,
   "metadata": {},
   "outputs": [],
   "source": [
    "10\n"
   ]
  },
  {
   "cell_type": "code",
   "execution_count": null,
   "metadata": {},
   "outputs": [],
   "source": []
  }
 ],
 "metadata": {
  "kernelspec": {
   "display_name": "Python 3",
   "language": "python",
   "name": "python3"
  },
  "widgets": {
   "state": {},
   "version": "1.1.2"
  }
 },
 "nbformat": 4,
 "nbformat_minor": 1
}
